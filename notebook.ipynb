{
 "cells": [
  {
   "cell_type": "code",
   "execution_count": 61,
   "metadata": {},
   "outputs": [],
   "source": [
    "import mmcv\n",
    "from mmcv import Config\n",
    "import torch"
   ]
  },
  {
   "cell_type": "code",
   "execution_count": 62,
   "metadata": {},
   "outputs": [
    {
     "name": "stdout",
     "output_type": "stream",
     "text": [
      "[1, 2]\n"
     ]
    }
   ],
   "source": [
    "a = [1,2]\n",
    "print('%s'%(a))"
   ]
  },
  {
   "cell_type": "code",
   "execution_count": 59,
   "metadata": {},
   "outputs": [
    {
     "data": {
      "text/plain": [
       "([tensor([[0.4295, 0.1855]]),\n",
       "  tensor([[0.4797, 0.5900]]),\n",
       "  tensor([[0.8507, 0.3484]]),\n",
       "  tensor([[0.2414, 0.1799]]),\n",
       "  tensor([[0.6218, 0.5239]]),\n",
       "  tensor([[0.2186, 0.3749]]),\n",
       "  tensor([[0.3524, 0.5366]]),\n",
       "  tensor([[0.8011, 0.0404]]),\n",
       "  tensor([[0.3856, 0.6175]]),\n",
       "  tensor([[0.8821, 0.4285]])],\n",
       " [tensor([[0.4254, 0.1742]]),\n",
       "  tensor([[0.2414, 0.1799]]),\n",
       "  tensor([[0.6218, 0.5239]])])"
      ]
     },
     "execution_count": 59,
     "metadata": {},
     "output_type": "execute_result"
    }
   ],
   "source": [
    "a = []\n",
    "\n",
    "for i in range(10):\n",
    "    a.append(torch.rand((1,2)))\n",
    "\n",
    "b = [a[i] for i in range(2,5)]\n",
    "\n",
    "a[2] = 2*a[2]\n",
    "a, b"
   ]
  },
  {
   "cell_type": "code",
   "execution_count": 60,
   "metadata": {},
   "outputs": [
    {
     "data": {
      "text/plain": [
       "(tensor([[[0.9294, 0.2869, 0.9446],\n",
       "          [0.5648, 0.0686, 0.6935],\n",
       "          [0.1668, 0.3442, 0.6215]],\n",
       " \n",
       "         [[0.6576, 0.2144, 0.2884],\n",
       "          [0.6934, 0.9466, 0.4805],\n",
       "          [0.8072, 0.6416, 0.3716]]]),\n",
       " tensor([[[0.9294, 0.5648, 0.1668],\n",
       "          [0.2869, 0.0686, 0.3442],\n",
       "          [0.9446, 0.6935, 0.6215]],\n",
       " \n",
       "         [[0.6576, 0.6934, 0.8072],\n",
       "          [0.2144, 0.9466, 0.6416],\n",
       "          [0.2884, 0.4805, 0.3716]]]))"
      ]
     },
     "execution_count": 60,
     "metadata": {},
     "output_type": "execute_result"
    }
   ],
   "source": [
    "a = torch.rand((2,3,3))\n",
    "a, a.permute(0,2,1)"
   ]
  },
  {
   "cell_type": "code",
   "execution_count": 27,
   "metadata": {},
   "outputs": [
    {
     "data": {
      "text/plain": [
       "'8, 9, 10, 11, 12, 13, 14, 15, 16'"
      ]
     },
     "execution_count": 27,
     "metadata": {},
     "output_type": "execute_result"
    }
   ],
   "source": [
    "layers = [i for i in range(8, 17)]\n",
    "', '.join(str(i) for i in layers)"
   ]
  },
  {
   "cell_type": "code",
   "execution_count": 43,
   "metadata": {},
   "outputs": [],
   "source": [
    "cfg = Config.fromfile('./configs/train_strongce.py')"
   ]
  },
  {
   "cell_type": "code",
   "execution_count": 51,
   "metadata": {},
   "outputs": [
    {
     "name": "stdout",
     "output_type": "stream",
     "text": [
      "0\n",
      "1\n",
      "2\n",
      "3\n",
      "4\n",
      "5\n",
      "6\n",
      "7\n",
      "8\n"
     ]
    }
   ],
   "source": [
    "for i in cfg.loss.match_layers:\n",
    "    print(cfg.model.backbone.layers.index(i))"
   ]
  },
  {
   "cell_type": "code",
   "execution_count": 41,
   "metadata": {},
   "outputs": [
    {
     "data": {
      "text/plain": [
       "''"
      ]
     },
     "execution_count": 41,
     "metadata": {},
     "output_type": "execute_result"
    }
   ],
   "source": [
    "cfg.model.backbone.cam"
   ]
  },
  {
   "cell_type": "code",
   "execution_count": 10,
   "metadata": {},
   "outputs": [
    {
     "name": "stdout",
     "output_type": "stream",
     "text": [
      "_cfg_dict\n",
      "_filename\n",
      "_text\n"
     ]
    }
   ],
   "source": [
    "for key in cfg.__dict__:\n",
    "    print(key)"
   ]
  }
 ],
 "metadata": {
  "kernelspec": {
   "display_name": "VAT_semantic_matching",
   "language": "python",
   "name": "python3"
  },
  "language_info": {
   "codemirror_mode": {
    "name": "ipython",
    "version": 3
   },
   "file_extension": ".py",
   "mimetype": "text/x-python",
   "name": "python",
   "nbconvert_exporter": "python",
   "pygments_lexer": "ipython3",
   "version": "3.8.16"
  },
  "orig_nbformat": 4
 },
 "nbformat": 4,
 "nbformat_minor": 2
}
